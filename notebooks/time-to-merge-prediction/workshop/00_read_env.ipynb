{
 "cells": [
  {
   "cell_type": "markdown",
   "id": "633c748a-cf41-4618-a75e-af9ab4000961",
   "metadata": {},
   "source": [
    "# Testing all environment files"
   ]
  },
  {
   "cell_type": "markdown",
   "id": "41c8134a-ccb4-482c-adc5-fe0e7911632b",
   "metadata": {},
   "source": [
    "Before we start running other notebooks, lets run this notebook and check if we have successfully set-up the environment variables for the workshop."
   ]
  },
  {
   "cell_type": "code",
   "execution_count": 3,
   "id": "af4ba48e-3ab1-492c-afba-e708b4ffbff0",
   "metadata": {},
   "outputs": [
    {
     "data": {
      "text/plain": [
       "True"
      ]
     },
     "execution_count": 3,
     "metadata": {},
     "output_type": "execute_result"
    }
   ],
   "source": [
    "import os\n",
    "import boto3\n",
    "import trino\n",
    "from dotenv import find_dotenv, load_dotenv\n",
    "from github import Github\n",
    "\n",
    "load_dotenv(find_dotenv(), override=True)"
   ]
  },
  {
   "cell_type": "code",
   "execution_count": 4,
   "id": "f02fb4d6-9d2b-461c-8cd6-61f2af77bf49",
   "metadata": {},
   "outputs": [],
   "source": [
    "ORG = os.getenv(\"GITHUB_ORG\")\n",
    "REPO = os.getenv(\"GITHUB_REPO\")\n",
    "\n",
    "CEPH_BUCKET_PREFIX = os.getenv(\"CEPH_BUCKET_PREFIX\")\n",
    "CEPH_BUCKET = os.getenv(\"CEPH_BUCKET\")\n",
    "CEPH_KEY_ID = os.getenv(\"CEPH_KEY_ID\")\n",
    "CEPH_SECRET_KEY = os.getenv(\"CEPH_SECRET_KEY\")\n",
    "\n",
    "S3_BUCKET = os.getenv(\"S3_BUCKET\")\n",
    "S3_ACCESS_KEY = os.getenv(\"AWS_ACCESS_KEY_ID\")\n",
    "S3_SECRET_KEY = os.getenv(\"AWS_SECRET_ACCESS_KEY\")\n",
    "S3_ENDPOINT_URL = os.getenv(\"S3_ENDPOINT_URL\")\n",
    "\n",
    "GITHUB_ACCESS_TOKEN = os.getenv(\"GITHUB_ACCESS_TOKEN\")\n",
    "\n",
    "TRINO_USER = os.getenv(\"TRINO_USER\")\n",
    "TRINO_PASSWD = os.getenv(\"TRINO_PASSWD\")\n",
    "TRINO_HOST = os.getenv(\"TRINO_HOST\")\n",
    "TRINO_PORT = os.getenv(\"TRINO_PORT\")\n",
    "\n",
    "CHOSEN_MODEL = os.getenv(\"CHOSEN_MODEL\")\n",
    "REMOTE = os.getenv(\"REMOTE\")"
   ]
  },
  {
   "cell_type": "markdown",
   "id": "9436cd2d-d530-4267-a531-9c0427141f47",
   "metadata": {},
   "source": [
    "## GitHub ORG/REPO"
   ]
  },
  {
   "cell_type": "markdown",
   "id": "2e6ce5ec-6c6c-404d-a9f7-8ae20d38524d",
   "metadata": {},
   "source": [
    "You are trying to extract the Pull Request data from: "
   ]
  },
  {
   "cell_type": "code",
   "execution_count": 5,
   "id": "9e87b45f-f820-44d4-a571-d97f257aab92",
   "metadata": {},
   "outputs": [
    {
     "name": "stdout",
     "output_type": "stream",
     "text": [
      "operate-first/support\n"
     ]
    }
   ],
   "source": [
    "print(f\"{ORG}/{REPO}\")"
   ]
  },
  {
   "cell_type": "markdown",
   "id": "fdc16b9b-9d59-40fc-bbcc-b877224c0fe1",
   "metadata": {},
   "source": [
    "## S3 Credentials"
   ]
  },
  {
   "cell_type": "markdown",
   "id": "da92737b-19f8-400d-844c-2c6f3af5ab08",
   "metadata": {},
   "source": [
    "In order to check our S3 credentials. Lets list out the files in the bucket using the credentials from the environment file."
   ]
  },
  {
   "cell_type": "code",
   "execution_count": 6,
   "id": "1b1f670c-3da6-4072-a1b6-8744ac11fd86",
   "metadata": {},
   "outputs": [
    {
     "name": "stdout",
     "output_type": "stream",
     "text": [
      "/srcopsmetrics/bot_knowledge/operate-first/support/PullRequest.json\n",
      "andrewkjankowski/srcopsmetrics/bot_knowledge/operate-first/support/PullRequest.json\n",
      "attendee/operate-first/support/features/operate-firstsupportFILETYPE.parquet\n",
      "attendee/operate-first/support/features/operate-firstsupporttitlewords.parquet\n",
      "attendee/operate-first/support/sql/operate-firstsupportprs.parquet\n",
      "attendee/operate-first/support/test-data/X_test.parquet\n",
      "attendee/operate-first/support/test-data/y_test.parquet\n",
      "attendee/operate-first/support/ttm-model/model.joblib\n",
      "attendee/operate-first/support/ttm_feature_engineered_dataset.parquet\n",
      "attendee/srcopsmetrics/bot_knowledge/operate-first/support/PullRequest.json\n",
      "attendee2/operate-first/support/features/operate-firstsupportFILETYPE.parquet\n",
      "attendee2/operate-first/support/features/operate-firstsupporttitlewords.parquet\n",
      "attendee2/operate-first/support/sql/operate-firstsupportprs.parquet\n",
      "attendee2/operate-first/support/test-data/X_test.parquet\n",
      "attendee2/operate-first/support/test-data/y_test.parquet\n",
      "attendee2/operate-first/support/ttm-model/model.joblib\n",
      "attendee2/operate-first/support/ttm_feature_engineered_dataset.parquet\n",
      "attendee2/srcopsmetrics/bot_knowledge/operate-first/support/PullRequest.json\n",
      "end-to-end-test-0728061640/01_data_collection-3aba536d-f5b2-45a5-94d6-17d35a26174c.tar.gz\n",
      "end-to-end-test-0728061640/01_data_collection.html\n",
      "end-to-end-test-0728061640/01_data_collection.ipynb\n",
      "end-to-end-test-0728061640/02_feature_engineering-837966f6-1075-4642-9695-ffcb24843606.tar.gz\n",
      "end-to-end-test-0728061640/02_feature_engineering.html\n",
      "end-to-end-test-0728061640/02_feature_engineering.ipynb\n",
      "end-to-end-test-0728061640/03_model_training-19ce8ed7-c3af-4b58-8b5d-650d02253693.tar.gz\n",
      "end-to-end-test-0728062936/01_data_collection-3aba536d-f5b2-45a5-94d6-17d35a26174c.tar.gz\n",
      "end-to-end-test-0728062936/01_data_collection.html\n",
      "end-to-end-test-0728062936/01_data_collection.ipynb\n",
      "end-to-end-test-0728062936/02_feature_engineering-837966f6-1075-4642-9695-ffcb24843606.tar.gz\n",
      "end-to-end-test-0728062936/02_feature_engineering.html\n",
      "end-to-end-test-0728062936/02_feature_engineering.ipynb\n",
      "end-to-end-test-0728062936/03_model_training-19ce8ed7-c3af-4b58-8b5d-650d02253693.tar.gz\n",
      "end-to-end-test-0728062936/03_model_training.html\n",
      "end-to-end-test-0728062936/03_model_training.ipynb\n",
      "end-to-end-test-0728063216/01_data_collection-3aba536d-f5b2-45a5-94d6-17d35a26174c.tar.gz\n",
      "end-to-end-test-0728063216/01_data_collection.html\n",
      "end-to-end-test-0728063216/01_data_collection.ipynb\n",
      "end-to-end-test-0728063216/02_feature_engineering-837966f6-1075-4642-9695-ffcb24843606.tar.gz\n",
      "end-to-end-test-0728063216/02_feature_engineering.html\n",
      "end-to-end-test-0728063216/02_feature_engineering.ipynb\n",
      "end-to-end-test-0728063216/03_model_training-19ce8ed7-c3af-4b58-8b5d-650d02253693.tar.gz\n",
      "end-to-end-test-0728063714/01_data_collection-3aba536d-f5b2-45a5-94d6-17d35a26174c.tar.gz\n",
      "end-to-end-test-0728063714/01_data_collection.html\n",
      "end-to-end-test-0728063714/01_data_collection.ipynb\n",
      "end-to-end-test-0728063714/02_feature_engineering-837966f6-1075-4642-9695-ffcb24843606.tar.gz\n",
      "end-to-end-test-0728063714/02_feature_engineering.html\n",
      "end-to-end-test-0728063714/02_feature_engineering.ipynb\n",
      "end-to-end-test-0728063714/03_model_training-19ce8ed7-c3af-4b58-8b5d-650d02253693.tar.gz\n",
      "end-to-end-test-0728064044/01_data_collection-3aba536d-f5b2-45a5-94d6-17d35a26174c.tar.gz\n",
      "end-to-end-test-0728064044/01_data_collection.html\n",
      "end-to-end-test-0728064044/01_data_collection.ipynb\n",
      "end-to-end-test-0728064044/02_feature_engineering-837966f6-1075-4642-9695-ffcb24843606.tar.gz\n",
      "end-to-end-test-0728064044/02_feature_engineering.html\n",
      "end-to-end-test-0728064044/02_feature_engineering.ipynb\n",
      "end-to-end-test-0728064044/03_model_training-19ce8ed7-c3af-4b58-8b5d-650d02253693.tar.gz\n",
      "end-to-end-test-0728064044/03_model_training.html\n",
      "end-to-end-test-0728064044/03_model_training.ipynb\n",
      "end-to-end-test-0728064740/01_data_collection-3aba536d-f5b2-45a5-94d6-17d35a26174c.tar.gz\n",
      "end-to-end-test-0728064740/01_data_collection.html\n",
      "end-to-end-test-0728064740/01_data_collection.ipynb\n",
      "end-to-end-test-0728064740/02_feature_engineering-837966f6-1075-4642-9695-ffcb24843606.tar.gz\n",
      "end-to-end-test-0728064740/02_feature_engineering.html\n",
      "end-to-end-test-0728064740/02_feature_engineering.ipynb\n",
      "end-to-end-test-0728064740/03_model_training-19ce8ed7-c3af-4b58-8b5d-650d02253693.tar.gz\n",
      "end-to-end-test-0728064740/03_model_training.html\n",
      "end-to-end-test-0728064740/03_model_training.ipynb\n",
      "oindrillac/operate-first/community/features/operate-firstcommunityFILETYPE.parquet\n",
      "oindrillac/operate-first/community/features/operate-firstcommunitytitlewords.parquet\n",
      "oindrillac/operate-first/community/sql/operate-firstcommunityprs.parquet\n",
      "oindrillac/operate-first/community/test-data/X_test.parquet\n",
      "oindrillac/operate-first/community/test-data/y_test.parquet\n",
      "oindrillac/operate-first/community/ttm-model/model.joblib\n",
      "oindrillac/operate-first/community/ttm_feature_engineered_dataset.parquet\n",
      "oindrillac/srcopsmetrics/bot_knowledge/operate-first/community/PullRequest.json\n",
      "shef/srcopsmetrics/bot_knowledge/operate-first/support/PullRequest.json\n",
      "somefolder/Bike.csv\n",
      "somefolder/new_data.csv\n",
      "somefolder/new_data2.csv\n",
      "test-ai4ci-0728060751/01_data_collection-3aba536d-f5b2-45a5-94d6-17d35a26174c.tar.gz\n",
      "test-ai4ci-0728060751/02_feature_engineering-837966f6-1075-4642-9695-ffcb24843606.tar.gz\n",
      "test-ai4ci-0728060751/03_model_training-19ce8ed7-c3af-4b58-8b5d-650d02253693.tar.gz\n",
      "test-ai4ci-0728061029/01_data_collection-3aba536d-f5b2-45a5-94d6-17d35a26174c.tar.gz\n",
      "test-ai4ci-0728061029/01_data_collection.html\n",
      "test-ai4ci-0728061029/01_data_collection.ipynb\n",
      "test-ai4ci-0728061029/02_feature_engineering-837966f6-1075-4642-9695-ffcb24843606.tar.gz\n",
      "test-ai4ci-0728061029/02_feature_engineering.html\n",
      "test-ai4ci-0728061029/02_feature_engineering.ipynb\n",
      "test-ai4ci-0728061029/03_model_training-19ce8ed7-c3af-4b58-8b5d-650d02253693.tar.gz\n"
     ]
    }
   ],
   "source": [
    "s3 = boto3.client(\n",
    "    \"s3\",\n",
    "    endpoint_url=S3_ENDPOINT_URL,\n",
    "    aws_access_key_id=S3_ACCESS_KEY,\n",
    "    aws_secret_access_key=S3_SECRET_KEY,\n",
    ")\n",
    "\n",
    "for key in s3.list_objects(Bucket=S3_BUCKET)[\"Contents\"]:\n",
    "    print(key[\"Key\"])"
   ]
  },
  {
   "cell_type": "markdown",
   "id": "2e1cd849-b365-43cc-ae0f-d8e65cefb915",
   "metadata": {},
   "source": [
    "If you see the list of files, it means that the credentials you have provided is working properly. If not, please recheck the credentials and try again. "
   ]
  },
  {
   "cell_type": "markdown",
   "id": "9ab8e0c2-fcf1-4c7a-925f-bdb5c46fabf3",
   "metadata": {},
   "source": [
    "## CEPH Credentials"
   ]
  },
  {
   "cell_type": "markdown",
   "id": "7ae50864-49de-46d7-b8fa-6463dbaf6a7c",
   "metadata": {},
   "source": [
    "## Compare the credentials of S3 and CEPH:"
   ]
  },
  {
   "cell_type": "code",
   "execution_count": 7,
   "id": "2588ae77-b530-49d1-a8a7-7b2e6effe466",
   "metadata": {},
   "outputs": [
    {
     "name": "stdout",
     "output_type": "stream",
     "text": [
      "True\n"
     ]
    }
   ],
   "source": [
    "print(S3_BUCKET == CEPH_BUCKET)"
   ]
  },
  {
   "cell_type": "code",
   "execution_count": 8,
   "id": "32d2fd65-6d5b-4b06-8449-be797895533c",
   "metadata": {},
   "outputs": [
    {
     "name": "stdout",
     "output_type": "stream",
     "text": [
      "True\n"
     ]
    }
   ],
   "source": [
    "print(S3_ACCESS_KEY == CEPH_KEY_ID)"
   ]
  },
  {
   "cell_type": "code",
   "execution_count": 9,
   "id": "abb02276-5e67-452f-a172-5515b8371249",
   "metadata": {},
   "outputs": [
    {
     "name": "stdout",
     "output_type": "stream",
     "text": [
      "True\n"
     ]
    }
   ],
   "source": [
    "print(S3_SECRET_KEY == CEPH_SECRET_KEY)"
   ]
  },
  {
   "cell_type": "markdown",
   "id": "af96f2a5-3c49-42e3-8c71-5862885e5d11",
   "metadata": {},
   "source": [
    "If your results for all the above three are `True`. You are good to move forward. If not, please make sure the credentials are correct and same."
   ]
  },
  {
   "cell_type": "markdown",
   "id": "39c638c7-6895-4a1b-981c-23edf9911afc",
   "metadata": {},
   "source": [
    "## Trino Credentials"
   ]
  },
  {
   "cell_type": "markdown",
   "id": "9e2c0ec5-951e-4d8d-ac12-fd683cfe1233",
   "metadata": {},
   "source": [
    "Here we are testing our trino credentials, if we can list out the table from the trino server. It means with the credentials we have provided, it is connecting to the trino client. "
   ]
  },
  {
   "cell_type": "code",
   "execution_count": 11,
   "id": "2be720f2-312d-454f-9730-74dcccdeac0b",
   "metadata": {},
   "outputs": [],
   "source": [
    "# Create a Trino Client\n",
    "conn = trino.dbapi.connect(\n",
    "    auth=trino.auth.BasicAuthentication(\n",
    "        os.environ[\"TRINO_USER\"], os.environ[\"TRINO_PASSWD\"]\n",
    "    ),\n",
    "    host=os.environ[\"TRINO_HOST\"],\n",
    "    port=int(os.environ[\"TRINO_PORT\"]),\n",
    "    http_scheme=\"https\",\n",
    "    verify=True,\n",
    ")\n",
    "cur = conn.cursor()"
   ]
  },
  {
   "cell_type": "code",
   "execution_count": 12,
   "id": "bf33b0e9-c78e-4021-9bc0-29deb76b2ebf",
   "metadata": {},
   "outputs": [
    {
     "data": {
      "text/plain": [
       "[['aiops_tools_workshop'], ['jmx'], ['system']]"
      ]
     },
     "execution_count": 12,
     "metadata": {},
     "output_type": "execute_result"
    }
   ],
   "source": [
    "# Check if Trino connection was successful\n",
    "cur.execute(\"show catalogs\")\n",
    "cur.fetchall()"
   ]
  },
  {
   "cell_type": "markdown",
   "id": "a6944ba2-518d-413a-8bdb-fd82b977ae53",
   "metadata": {},
   "source": [
    "Check the list of tables. If the table named, `aiops_tools_workshop` is present in the above list. You are good to proceed to next section."
   ]
  },
  {
   "cell_type": "markdown",
   "id": "f781464f-7d36-4f3f-8f8f-9461d5bbddf4",
   "metadata": {},
   "source": [
    "## GitHub access token"
   ]
  },
  {
   "cell_type": "markdown",
   "id": "a478cdde-8597-4cbd-b640-811e75e71a13",
   "metadata": {},
   "source": [
    "In order to check your GitHub Access token, we will be checking the rate with which the GitHub data can be extracted by the user. "
   ]
  },
  {
   "cell_type": "code",
   "execution_count": 13,
   "id": "7da5f4a2-da2f-414b-87b5-0a599824df78",
   "metadata": {},
   "outputs": [
    {
     "data": {
      "text/plain": [
       "(5000, 5000)"
      ]
     },
     "execution_count": 13,
     "metadata": {},
     "output_type": "execute_result"
    }
   ],
   "source": [
    "g = Github(GITHUB_ACCESS_TOKEN)\n",
    "g.rate_limiting"
   ]
  },
  {
   "cell_type": "markdown",
   "id": "2870fb39-c036-44d2-b870-22d01d12b6ff",
   "metadata": {},
   "source": [
    "If you can see your rate, (max value is 5000/hour). Your GitHub credentials are working."
   ]
  },
  {
   "cell_type": "markdown",
   "id": "8a97c498-81f5-4411-92db-dd61fc3cac08",
   "metadata": {},
   "source": [
    "## Your Chosen Model"
   ]
  },
  {
   "cell_type": "code",
   "execution_count": 14,
   "id": "3ef9b51a-e94f-4ce9-846b-ab20c7cd334c",
   "metadata": {},
   "outputs": [
    {
     "name": "stdout",
     "output_type": "stream",
     "text": [
      "Great! You can proceed forward.\n"
     ]
    }
   ],
   "source": [
    "if CHOSEN_MODEL in (\"rf\", \"egbc\", \"svc\", \"gnb\"):\n",
    "    print(\"Great! You can proceed forward.\")\n",
    "else:\n",
    "    print(\n",
    "        \"Make sure your chosen model falls into the list of models,('rf', 'egbc', 'svc', 'gnb')\"\n",
    "    )"
   ]
  },
  {
   "cell_type": "markdown",
   "id": "bed4439d-bff7-4fdc-8723-66b08cc7c033",
   "metadata": {},
   "source": [
    "## REMOTE"
   ]
  },
  {
   "cell_type": "markdown",
   "id": "33b23048-90b9-4ad1-8b08-ee6c2ed2280c",
   "metadata": {},
   "source": [
    "Check if your have assigned REMOTE as 1. "
   ]
  },
  {
   "cell_type": "code",
   "execution_count": 15,
   "id": "a93e960d-92c2-40f9-8c64-a41b57a67f97",
   "metadata": {},
   "outputs": [
    {
     "name": "stdout",
     "output_type": "stream",
     "text": [
      "REMOTE : 1\n"
     ]
    }
   ],
   "source": [
    "print(f\"REMOTE : {REMOTE}\")"
   ]
  },
  {
   "cell_type": "markdown",
   "id": "682633b2-c212-489c-939a-66749126e97a",
   "metadata": {},
   "source": [
    "We choose `REMOTE=1`, since we will be downloading the data remotely from the S3_bucket. Make sure, it has assigned value `1` or `True` since we will be "
   ]
  },
  {
   "cell_type": "markdown",
   "id": "77785349-af37-464d-9e07-b8c8cf2884fd",
   "metadata": {},
   "source": [
    "If everything code cell works well and does not give you any warnings or errors. You are ready to proceed to the next section."
   ]
  }
 ],
 "metadata": {
  "kernelspec": {
   "display_name": "Python 3 (ipykernel)",
   "language": "python",
   "name": "python3"
  },
  "language_info": {
   "codemirror_mode": {
    "name": "ipython",
    "version": 3
   },
   "file_extension": ".py",
   "mimetype": "text/x-python",
   "name": "python",
   "nbconvert_exporter": "python",
   "pygments_lexer": "ipython3",
   "version": "3.8.8"
  }
 },
 "nbformat": 4,
 "nbformat_minor": 5
}
